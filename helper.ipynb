{
 "cells": [
  {
   "cell_type": "markdown",
   "metadata": {},
   "source": [
    "## 1. Creating Hashed Passwords for Authentication:"
   ]
  },
  {
   "cell_type": "markdown",
   "metadata": {},
   "source": [
    "* Everytime when a new user is added to the app, we need to get the user_id (usually email) and their password from them.\n",
    "* Then we need to create a `Hash` of the password and add it to the `authenticator.yml` file in order for the user to be able to log-in to the app."
   ]
  },
  {
   "cell_type": "code",
   "execution_count": 4,
   "metadata": {},
   "outputs": [
    {
     "name": "stdout",
     "output_type": "stream",
     "text": [
      "['$2b$12$tdKt5p7nfhQgcDG30FldqeTZLUio5P.vAqKXSqiUHxURaei7Npkq2']\n"
     ]
    }
   ],
   "source": [
    "from streamlit_authenticator.utilities.hasher import Hasher\n",
    "\n",
    "hashed_passwords = Hasher(['abc123']).generate()\n",
    "print(hashed_passwords) "
   ]
  },
  {
   "cell_type": "code",
   "execution_count": 5,
   "metadata": {},
   "outputs": [
    {
     "name": "stdout",
     "output_type": "stream",
     "text": [
      "['$2b$12$N9w9IGLBfLv1tne8lzalUOm2hH4ytnvbTgQ.vs0jV6EbKt9x2QPr6']\n"
     ]
    }
   ],
   "source": [
    "hashed_passwords = Hasher(['blackpearl']).generate()\n",
    "print(hashed_passwords) "
   ]
  },
  {
   "cell_type": "markdown",
   "metadata": {},
   "source": [
    "## 2. Testing the connection with Snowflake Data warehouse:"
   ]
  },
  {
   "cell_type": "code",
   "execution_count": 32,
   "metadata": {},
   "outputs": [
    {
     "data": {
      "text/plain": [
       "True"
      ]
     },
     "execution_count": 32,
     "metadata": {},
     "output_type": "execute_result"
    }
   ],
   "source": [
    "import snowflake.connector\n",
    "from dotenv import load_dotenv\n",
    "import os \n",
    "\n",
    "load_dotenv()"
   ]
  },
  {
   "cell_type": "code",
   "execution_count": 34,
   "metadata": {},
   "outputs": [],
   "source": [
    "con = snowflake.connector.connect(\n",
    "    user='hariharan',\n",
    "    password= os.getenv('SNOWSQL_PWD'),\n",
    "    account=os.getenv('SNOWSQL_ACCOUNT'),\n",
    "    warehouse = os.getenv('SNOWSQL_WAREHOUSE'),\n",
    ")"
   ]
  },
  {
   "cell_type": "code",
   "execution_count": 35,
   "metadata": {},
   "outputs": [
    {
     "name": "stdout",
     "output_type": "stream",
     "text": [
      "FOOD_DELIVERY\n",
      "SNOWFLAKE\n",
      "SNOWFLAKE_SAMPLE_DATA\n"
     ]
    }
   ],
   "source": [
    "# Show all the databses present in the database\n",
    "cur = con.cursor()\n",
    "cur.execute(\"SHOW DATABASES\")\n",
    "result = cur.fetchall()\n",
    "for row in result:\n",
    "    schema_name = row[1]\n",
    "    print(schema_name)"
   ]
  },
  {
   "cell_type": "code",
   "execution_count": 36,
   "metadata": {},
   "outputs": [
    {
     "name": "stdout",
     "output_type": "stream",
     "text": [
      "CORE\n",
      "INFORMATION_SCHEMA\n",
      "PUBLIC\n"
     ]
    }
   ],
   "source": [
    "# Show all the schemas present in the database\n",
    "cur = con.cursor()\n",
    "cur.execute(\"SHOW SCHEMAS IN FOOD_DELIVERY\")\n",
    "result = cur.fetchall()\n",
    "for row in result:\n",
    "    schema_name = row[1]\n",
    "    print(schema_name)"
   ]
  },
  {
   "cell_type": "code",
   "execution_count": 37,
   "metadata": {},
   "outputs": [
    {
     "name": "stdout",
     "output_type": "stream",
     "text": [
      "MENU_ITEMS\n",
      "ORDERS\n",
      "ORDER_DETAILS\n",
      "PAYMENTS\n",
      "RESTAURANTS\n",
      "REVIEWS\n",
      "USERS\n"
     ]
    }
   ],
   "source": [
    "# Show all the tables present in the schema CORE\n",
    "cur.execute(\"SHOW TABLES IN SCHEMA FOOD_DELIVERY.CORE\")\n",
    "result = cur.fetchall()\n",
    "for row in result:\n",
    "    table_name = row[1]\n",
    "    print(table_name)"
   ]
  },
  {
   "cell_type": "code",
   "execution_count": 38,
   "metadata": {},
   "outputs": [
    {
     "name": "stdout",
     "output_type": "stream",
     "text": [
      "(73748, 7)\n"
     ]
    },
    {
     "data": {
      "text/html": [
       "<div>\n",
       "<style scoped>\n",
       "    .dataframe tbody tr th:only-of-type {\n",
       "        vertical-align: middle;\n",
       "    }\n",
       "\n",
       "    .dataframe tbody tr th {\n",
       "        vertical-align: top;\n",
       "    }\n",
       "\n",
       "    .dataframe thead th {\n",
       "        text-align: right;\n",
       "    }\n",
       "</style>\n",
       "<table border=\"1\" class=\"dataframe\">\n",
       "  <thead>\n",
       "    <tr style=\"text-align: right;\">\n",
       "      <th></th>\n",
       "      <th>ORDER_ID</th>\n",
       "      <th>USER_ID</th>\n",
       "      <th>ORDER_TIME</th>\n",
       "      <th>DELIVERY_ADDRESS</th>\n",
       "      <th>ORDER_STATUS</th>\n",
       "      <th>RESTAURANT_ID</th>\n",
       "      <th>TOTAL_AMOUNT</th>\n",
       "    </tr>\n",
       "  </thead>\n",
       "  <tbody>\n",
       "    <tr>\n",
       "      <th>0</th>\n",
       "      <td>716d868b-2b5a-4bee-bc2c-ee262c81588f</td>\n",
       "      <td>d36e1a86-6e33-434a-b9c7-3f5c30753402</td>\n",
       "      <td>2024-06-01 11:53:19</td>\n",
       "      <td>9198 Gabriela Green\\nEast Marcton, DC 16873</td>\n",
       "      <td>Delivered</td>\n",
       "      <td>R18329211</td>\n",
       "      <td>152.85</td>\n",
       "    </tr>\n",
       "    <tr>\n",
       "      <th>1</th>\n",
       "      <td>0f41a3a7-954a-4e24-ad84-dba22e8dd154</td>\n",
       "      <td>1ae81af6-6b78-4695-8996-442e9e40ad3c</td>\n",
       "      <td>2024-06-01 08:11:05</td>\n",
       "      <td>366 Byrd Hills\\nNew Robert, WI 24455</td>\n",
       "      <td>Delivered</td>\n",
       "      <td>R22670500</td>\n",
       "      <td>191.50</td>\n",
       "    </tr>\n",
       "    <tr>\n",
       "      <th>2</th>\n",
       "      <td>fde175ad-d2ea-4901-a5fd-5c28f44e7382</td>\n",
       "      <td>2c1492fd-c993-4d00-9086-dc105c821bae</td>\n",
       "      <td>2024-06-01 21:46:46</td>\n",
       "      <td>71211 Gregory Track\\nGreenestad, OH 72514</td>\n",
       "      <td>Delivered</td>\n",
       "      <td>R66375744</td>\n",
       "      <td>35.88</td>\n",
       "    </tr>\n",
       "    <tr>\n",
       "      <th>3</th>\n",
       "      <td>99e370cd-f55e-4793-b0e6-0c41d8fd9287</td>\n",
       "      <td>523d1f1a-9edd-4811-9472-f65a52d51f15</td>\n",
       "      <td>2024-06-01 09:04:39</td>\n",
       "      <td>070 Steven Heights\\nRoachville, PW 12962</td>\n",
       "      <td>Delivered</td>\n",
       "      <td>R42644875</td>\n",
       "      <td>149.57</td>\n",
       "    </tr>\n",
       "    <tr>\n",
       "      <th>4</th>\n",
       "      <td>a88b8bf1-9fdf-4c8e-87ab-ac3a390d05e0</td>\n",
       "      <td>a6c31749-eb2a-40f3-aa65-49ead5cfdc3a</td>\n",
       "      <td>2024-06-01 21:05:23</td>\n",
       "      <td>9382 Alyssa Branch\\nShellyfurt, VI 11466</td>\n",
       "      <td>Delivered</td>\n",
       "      <td>R23024716</td>\n",
       "      <td>129.32</td>\n",
       "    </tr>\n",
       "  </tbody>\n",
       "</table>\n",
       "</div>"
      ],
      "text/plain": [
       "                               ORDER_ID                               USER_ID  \\\n",
       "0  716d868b-2b5a-4bee-bc2c-ee262c81588f  d36e1a86-6e33-434a-b9c7-3f5c30753402   \n",
       "1  0f41a3a7-954a-4e24-ad84-dba22e8dd154  1ae81af6-6b78-4695-8996-442e9e40ad3c   \n",
       "2  fde175ad-d2ea-4901-a5fd-5c28f44e7382  2c1492fd-c993-4d00-9086-dc105c821bae   \n",
       "3  99e370cd-f55e-4793-b0e6-0c41d8fd9287  523d1f1a-9edd-4811-9472-f65a52d51f15   \n",
       "4  a88b8bf1-9fdf-4c8e-87ab-ac3a390d05e0  a6c31749-eb2a-40f3-aa65-49ead5cfdc3a   \n",
       "\n",
       "           ORDER_TIME                             DELIVERY_ADDRESS  \\\n",
       "0 2024-06-01 11:53:19  9198 Gabriela Green\\nEast Marcton, DC 16873   \n",
       "1 2024-06-01 08:11:05         366 Byrd Hills\\nNew Robert, WI 24455   \n",
       "2 2024-06-01 21:46:46    71211 Gregory Track\\nGreenestad, OH 72514   \n",
       "3 2024-06-01 09:04:39     070 Steven Heights\\nRoachville, PW 12962   \n",
       "4 2024-06-01 21:05:23     9382 Alyssa Branch\\nShellyfurt, VI 11466   \n",
       "\n",
       "  ORDER_STATUS RESTAURANT_ID  TOTAL_AMOUNT  \n",
       "0    Delivered     R18329211        152.85  \n",
       "1    Delivered     R22670500        191.50  \n",
       "2    Delivered     R66375744         35.88  \n",
       "3    Delivered     R42644875        149.57  \n",
       "4    Delivered     R23024716        129.32  "
      ]
     },
     "execution_count": 38,
     "metadata": {},
     "output_type": "execute_result"
    }
   ],
   "source": [
    "# creating cursor object\n",
    "cur = con.cursor()\n",
    "\n",
    "# Execute a statement that will generate a result set.\n",
    "sql = \"SELECT * FROM FOOD_DELIVERY.CORE.ORDERS\"\n",
    "cur.execute(sql)\n",
    "\n",
    "# Fetch the result set from the cursor and deliver it as the pandas DataFrame.\n",
    "df = cur.fetch_pandas_all()\n",
    "\n",
    "print(df.shape)\n",
    "df.head()"
   ]
  },
  {
   "cell_type": "markdown",
   "metadata": {},
   "source": [
    "## 3. Testing the connection with Databricks Data warehouse:"
   ]
  },
  {
   "cell_type": "code",
   "execution_count": 53,
   "metadata": {},
   "outputs": [
    {
     "data": {
      "text/plain": [
       "True"
      ]
     },
     "execution_count": 53,
     "metadata": {},
     "output_type": "execute_result"
    }
   ],
   "source": [
    "from dotenv import load_dotenv\n",
    "import os \n",
    "import pandas as pd \n",
    "from databricks import sql \n",
    "\n",
    "load_dotenv()"
   ]
  },
  {
   "cell_type": "code",
   "execution_count": 54,
   "metadata": {},
   "outputs": [],
   "source": [
    "# Creating a connection to databricks\n",
    "connection = sql.connect(server_hostname=os.getenv(\"DATABRICKS_SERVER_HOST_NAME\"),\n",
    "                         http_path=os.getenv(\"DATABRICKS_HTTP_PATH\"),\n",
    "                         access_token=os.getenv(\"DATABRICKS_ACCESS_TOKEN\")\n",
    "                         )\n"
   ]
  },
  {
   "cell_type": "code",
   "execution_count": 56,
   "metadata": {},
   "outputs": [
    {
     "name": "stderr",
     "output_type": "stream",
     "text": [
      "/var/folders/3g/7x619qt169344pmm32qd8wgc0000gq/T/ipykernel_8801/705794241.py:1: UserWarning: pandas only supports SQLAlchemy connectable (engine/connection) or database string URI or sqlite3 DBAPI2 connection. Other DBAPI2 objects are not tested. Please consider using SQLAlchemy.\n",
      "  df = pd.read_sql(\"SELECT * FROM hive_metastore.online_food_business.menu_items\", connection)\n"
     ]
    },
    {
     "name": "stdout",
     "output_type": "stream",
     "text": [
      "(3000, 4)\n"
     ]
    },
    {
     "data": {
      "text/html": [
       "<div>\n",
       "<style scoped>\n",
       "    .dataframe tbody tr th:only-of-type {\n",
       "        vertical-align: middle;\n",
       "    }\n",
       "\n",
       "    .dataframe tbody tr th {\n",
       "        vertical-align: top;\n",
       "    }\n",
       "\n",
       "    .dataframe thead th {\n",
       "        text-align: right;\n",
       "    }\n",
       "</style>\n",
       "<table border=\"1\" class=\"dataframe\">\n",
       "  <thead>\n",
       "    <tr style=\"text-align: right;\">\n",
       "      <th></th>\n",
       "      <th>menu_item_id</th>\n",
       "      <th>restaurant_id</th>\n",
       "      <th>item_name</th>\n",
       "      <th>price</th>\n",
       "    </tr>\n",
       "  </thead>\n",
       "  <tbody>\n",
       "    <tr>\n",
       "      <th>0</th>\n",
       "      <td>R32379007_1</td>\n",
       "      <td>R32379007</td>\n",
       "      <td>Tacos</td>\n",
       "      <td>10.20</td>\n",
       "    </tr>\n",
       "    <tr>\n",
       "      <th>1</th>\n",
       "      <td>R32379007_2</td>\n",
       "      <td>R32379007</td>\n",
       "      <td>Burritos</td>\n",
       "      <td>13.93</td>\n",
       "    </tr>\n",
       "    <tr>\n",
       "      <th>2</th>\n",
       "      <td>R32379007_3</td>\n",
       "      <td>R32379007</td>\n",
       "      <td>Enchiladas</td>\n",
       "      <td>14.15</td>\n",
       "    </tr>\n",
       "    <tr>\n",
       "      <th>3</th>\n",
       "      <td>R32379007_4</td>\n",
       "      <td>R32379007</td>\n",
       "      <td>Quesadillas</td>\n",
       "      <td>10.47</td>\n",
       "    </tr>\n",
       "    <tr>\n",
       "      <th>4</th>\n",
       "      <td>R32379007_5</td>\n",
       "      <td>R32379007</td>\n",
       "      <td>Nachos</td>\n",
       "      <td>10.80</td>\n",
       "    </tr>\n",
       "  </tbody>\n",
       "</table>\n",
       "</div>"
      ],
      "text/plain": [
       "  menu_item_id restaurant_id    item_name  price\n",
       "0  R32379007_1     R32379007        Tacos  10.20\n",
       "1  R32379007_2     R32379007     Burritos  13.93\n",
       "2  R32379007_3     R32379007   Enchiladas  14.15\n",
       "3  R32379007_4     R32379007  Quesadillas  10.47\n",
       "4  R32379007_5     R32379007       Nachos  10.80"
      ]
     },
     "execution_count": 56,
     "metadata": {},
     "output_type": "execute_result"
    }
   ],
   "source": [
    "df = pd.read_sql(\"SELECT * FROM hive_metastore.online_food_business.menu_items\", connection)\n",
    "print(df.shape)\n",
    "df.head()"
   ]
  },
  {
   "cell_type": "code",
   "execution_count": null,
   "metadata": {},
   "outputs": [],
   "source": []
  },
  {
   "cell_type": "code",
   "execution_count": null,
   "metadata": {},
   "outputs": [],
   "source": []
  }
 ],
 "metadata": {
  "kernelspec": {
   "display_name": "sqlgenpro",
   "language": "python",
   "name": "python3"
  },
  "language_info": {
   "codemirror_mode": {
    "name": "ipython",
    "version": 3
   },
   "file_extension": ".py",
   "mimetype": "text/x-python",
   "name": "python",
   "nbconvert_exporter": "python",
   "pygments_lexer": "ipython3",
   "version": "3.9.19"
  }
 },
 "nbformat": 4,
 "nbformat_minor": 2
}
