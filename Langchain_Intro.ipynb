{
 "cells": [
  {
   "cell_type": "code",
   "execution_count": null,
   "metadata": {},
   "outputs": [],
   "source": [
    "from dotenv import load_dotenv\n",
    "load_dotenv()"
   ]
  },
  {
   "cell_type": "code",
   "execution_count": null,
   "metadata": {},
   "outputs": [],
   "source": [
    "# LLM libraries\n",
    "from langchain_core.prompts import PromptTemplate\n",
    "from langchain.output_parsers import ResponseSchema, StructuredOutputParser\n",
    "from langchain.chains.llm import LLMChain\n",
    "from langchain_openai import ChatOpenAI"
   ]
  },
  {
   "cell_type": "markdown",
   "metadata": {},
   "source": [
    "### 1. Creating Prompt:"
   ]
  },
  {
   "cell_type": "code",
   "execution_count": null,
   "metadata": {},
   "outputs": [],
   "source": [
    "template_string = \"\"\" \n",
    "You are an expert researcher analyst in customer success team. \\\n",
    "Your job is the analyze the customer feedback and provide insights to the product team. \\\n",
    "Given the following customer feedback, provide the below insights: \\\n",
    "1. Product: Name of the product in review. \\\n",
    "2. Summary: Provide a summary of the feedback along with the sentiment. \\\n",
    "3. Positives: List out the positive feedbacks. \\\n",
    "4. Negatives: List out the negative feedbacks. \\\n",
    "\n",
    "Customer Feedback: \\\n",
    "{feedback}\n",
    "\"\"\"\n",
    "\n",
    "prompt = PromptTemplate.from_template(template_string)\n",
    "print(prompt)"
   ]
  },
  {
   "cell_type": "markdown",
   "metadata": {},
   "source": [
    "### 2. Creating an LLM Chain:"
   ]
  },
  {
   "cell_type": "code",
   "execution_count": null,
   "metadata": {},
   "outputs": [],
   "source": [
    "### Defining the LLM chain\n",
    "llm_chain = LLMChain(\n",
    "    llm=ChatOpenAI(model=\"gpt-4o-mini\",temperature=0),\n",
    "    prompt=prompt\n",
    ")\n",
    "\n",
    "llm_chain"
   ]
  },
  {
   "cell_type": "markdown",
   "metadata": {},
   "source": [
    "### 3. Generating output:"
   ]
  },
  {
   "cell_type": "code",
   "execution_count": null,
   "metadata": {},
   "outputs": [],
   "source": [
    "review = \"The samsung a70 is amazing and the customer service is very helpful. However, the product is very expensive.\"\n",
    "output = llm_chain.invoke({\"feedback\":review})"
   ]
  },
  {
   "cell_type": "code",
   "execution_count": null,
   "metadata": {},
   "outputs": [],
   "source": [
    "output"
   ]
  },
  {
   "cell_type": "code",
   "execution_count": null,
   "metadata": {},
   "outputs": [],
   "source": [
    "print(output['text'])"
   ]
  },
  {
   "cell_type": "markdown",
   "metadata": {},
   "source": [
    "### 4. Output Parsing:"
   ]
  },
  {
   "cell_type": "code",
   "execution_count": null,
   "metadata": {},
   "outputs": [],
   "source": [
    "### Defining the output schema from the LLM        \n",
    "output_schema = ResponseSchema(name=\"review_analysis\",description=\"Review analysis output\")\n",
    "output_parser = StructuredOutputParser.from_response_schemas([output_schema])\n",
    "format_instructions = output_parser.get_format_instructions()"
   ]
  },
  {
   "cell_type": "code",
   "execution_count": null,
   "metadata": {},
   "outputs": [],
   "source": [
    "format_instructions"
   ]
  },
  {
   "cell_type": "code",
   "execution_count": null,
   "metadata": {},
   "outputs": [],
   "source": [
    "template_string = \"\"\" \n",
    "You are an expert researcher analyst in customer success team. \\\n",
    "Your job is the analyze the customer feedback and provide insights to the product team. \\\n",
    "Given the following customer feedback, provide the below insights: \\\n",
    "1. Product: Name of the product in review. \\\n",
    "2. Summary: Provide a summary of the feedback along with the sentiment. \\\n",
    "3. Positives: List out the positive feedbacks. \\\n",
    "4. Negatives: List out the negative feedbacks. \\\n",
    "\n",
    "Customer Feedback: \\\n",
    "{feedback}\n",
    "\n",
    "{format_instructions}\n",
    "\"\"\"\n",
    "\n",
    "prompt = PromptTemplate.from_template(template_string)\n",
    "\n",
    "\n",
    "### Defining the LLM chain\n",
    "llm_chain = LLMChain(\n",
    "    llm=ChatOpenAI(model=\"gpt-4o-mini\",temperature=0),\n",
    "    prompt=prompt,\n",
    "    output_parser=output_parser\n",
    ")\n",
    "\n",
    "review = \"The samsung a70 is amazing and the customer service is very helpful. However, the product is very expensive.\"\n",
    "output = llm_chain.invoke({\"feedback\":review,\"format_instructions\":format_instructions})"
   ]
  },
  {
   "cell_type": "code",
   "execution_count": null,
   "metadata": {},
   "outputs": [],
   "source": [
    "output"
   ]
  },
  {
   "cell_type": "code",
   "execution_count": null,
   "metadata": {},
   "outputs": [],
   "source": [
    "print(output['text'])"
   ]
  },
  {
   "cell_type": "code",
   "execution_count": null,
   "metadata": {},
   "outputs": [],
   "source": [
    "print(output['text']['review_analysis'])"
   ]
  },
  {
   "cell_type": "code",
   "execution_count": null,
   "metadata": {},
   "outputs": [],
   "source": [
    "parsed_output = output['text']['review_analysis']"
   ]
  },
  {
   "cell_type": "code",
   "execution_count": null,
   "metadata": {},
   "outputs": [],
   "source": [
    "parsed_output"
   ]
  },
  {
   "cell_type": "code",
   "execution_count": null,
   "metadata": {},
   "outputs": [],
   "source": [
    "type(parsed_output)"
   ]
  },
  {
   "cell_type": "code",
   "execution_count": null,
   "metadata": {},
   "outputs": [],
   "source": []
  }
 ],
 "metadata": {
  "kernelspec": {
   "display_name": "sqlgenpro",
   "language": "python",
   "name": "python3"
  },
  "language_info": {
   "codemirror_mode": {
    "name": "ipython",
    "version": 3
   },
   "file_extension": ".py",
   "mimetype": "text/x-python",
   "name": "python",
   "nbconvert_exporter": "python",
   "pygments_lexer": "ipython3",
   "version": "3.9.19"
  }
 },
 "nbformat": 4,
 "nbformat_minor": 2
}
